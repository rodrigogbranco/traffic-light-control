{
 "cells": [
  {
   "cell_type": "code",
   "execution_count": 1,
   "metadata": {},
   "outputs": [
    {
     "ename": "ModuleNotFoundError",
     "evalue": "No module named 'triscale'",
     "output_type": "error",
     "traceback": [
      "\u001b[0;31m---------------------------------------------------------------------------\u001b[0m",
      "\u001b[0;31mModuleNotFoundError\u001b[0m                       Traceback (most recent call last)",
      "\u001b[0;32m<ipython-input-1-82c56f0f9a90>\u001b[0m in \u001b[0;36m<module>\u001b[0;34m\u001b[0m\n\u001b[1;32m      2\u001b[0m \u001b[0;32mimport\u001b[0m \u001b[0mpandas\u001b[0m \u001b[0;32mas\u001b[0m \u001b[0mpd\u001b[0m\u001b[0;34m\u001b[0m\u001b[0;34m\u001b[0m\u001b[0m\n\u001b[1;32m      3\u001b[0m \u001b[0;32mimport\u001b[0m \u001b[0mnumpy\u001b[0m \u001b[0;32mas\u001b[0m \u001b[0mnp\u001b[0m\u001b[0;34m\u001b[0m\u001b[0;34m\u001b[0m\u001b[0m\n\u001b[0;32m----> 4\u001b[0;31m \u001b[0;32mimport\u001b[0m \u001b[0mtriscale\u001b[0m\u001b[0;34m\u001b[0m\u001b[0;34m\u001b[0m\u001b[0m\n\u001b[0m",
      "\u001b[0;31mModuleNotFoundError\u001b[0m: No module named 'triscale'"
     ]
    }
   ],
   "source": [
    "import plotly.graph_objects as go\n",
    "import pandas as pd\n",
    "import numpy as np\n",
    "import triscale"
   ]
  },
  {
   "cell_type": "code",
   "execution_count": null,
   "metadata": {},
   "outputs": [],
   "source": [
    "percentile = 15\n",
    "confidence = 90 # the confidence level, in %\n",
    "\n",
    "triscale.experiment_sizing(\n",
    "    percentile, \n",
    "    confidence,\n",
    "    verbose=True); "
   ]
  },
  {
   "cell_type": "code",
   "execution_count": 118,
   "metadata": {},
   "outputs": [],
   "source": [
    "marker_colors = ['#3D9970', '#FF4136', '#FF851B']\n",
    "\n",
    "evs_name = {'vehev1' : 'EV1', 'vehev2' : 'EV2', 'vehev3' : 'EV3'}\n",
    "algs_name = {\n",
    "        'kapusta2': 'Kapusta et al (2017)',\n",
    "        'allgreen': 'Hyphotetical all-green',\n",
    "        'tpn2' : 'TPN',\n",
    "        'no-preemption' : 'No Preemption',\n",
    "        'tpn' : 'TPN (Old)',\n",
    "        'kapusta': 'Kapusta et al (2017) [1st version]'\n",
    "    }"
   ]
  },
  {
   "cell_type": "code",
   "execution_count": 119,
   "metadata": {},
   "outputs": [],
   "source": [
    "def make_boxplot_grouped(df,scenario):\n",
    "    evs = sorted(df['ev'].unique().tolist())\n",
    "    algs = df['alg'].unique().tolist()\n",
    "\n",
    "    df = df[df['imp'].notnull()]\n",
    "\n",
    "    fig = go.Figure()\n",
    "\n",
    "    for alg in algs:\n",
    "        complete_values = []\n",
    "        xlabels = []\n",
    "        for ev in evs:\n",
    "            values = df[(df['alg'] == alg) & (df['ev'] == ev)]['imp'].tolist()\n",
    "            xlabels += list(np.repeat(evs_name[ev], len(values)))\n",
    "            complete_values += values\n",
    "\n",
    "        fig.add_trace(go.Box(\n",
    "            y=complete_values,\n",
    "            x=xlabels,\n",
    "            name=algs_name[alg],\n",
    "            marker_color=marker_colors[algs.index(alg)]\n",
    "        ))\n",
    "\n",
    "    fig.update_layout(\n",
    "        yaxis_title='Time-Loss Improvement (times)',\n",
    "        title='Time-Loss Improvement - {}'.format(scenario),\n",
    "        boxmode='group' # group together boxes of the different traces for each value of x\n",
    "    )\n",
    "    fig.show()      "
   ]
  },
  {
   "cell_type": "code",
   "execution_count": 130,
   "metadata": {},
   "outputs": [],
   "source": [
    "def make_boxplot(df,scenario):\n",
    "    evs = sorted(df['ev'].unique().tolist())\n",
    "\n",
    "    fig = go.Figure()\n",
    "\n",
    "    df = df[df['tl'].notnull()]\n",
    "\n",
    "    for ev in evs:\n",
    "        fig.add_trace(go.Box(y=df[(df['alg'] == 'no-preemption') & (df['ev'] == ev)]['tl'].tolist(), name=evs_name[ev]))\n",
    "\n",
    "    fig.update_layout(\n",
    "        yaxis_title='Time-Loss (s)',\n",
    "        title='Time-Loss - No Preemption - {}'.format(scenario)\n",
    "    )        \n",
    "\n",
    "    fig.show()    "
   ]
  },
  {
   "cell_type": "code",
   "execution_count": 131,
   "metadata": {},
   "outputs": [
    {
     "data": {
      "text/html": [
       "<div>                            <div id=\"052cc1ea-948a-4e94-a58c-f3c34cabf030\" class=\"plotly-graph-div\" style=\"height:525px; width:100%;\"></div>            <script type=\"text/javascript\">                require([\"plotly\"], function(Plotly) {                    window.PLOTLYENV=window.PLOTLYENV || {};                                    if (document.getElementById(\"052cc1ea-948a-4e94-a58c-f3c34cabf030\")) {                    Plotly.newPlot(                        \"052cc1ea-948a-4e94-a58c-f3c34cabf030\",                        [{\"marker\":{\"color\":\"#3D9970\"},\"name\":\"Hyphotetical all-green\",\"type\":\"box\",\"x\":[\"EV1\",\"EV1\",\"EV1\",\"EV1\",\"EV1\",\"EV1\",\"EV1\",\"EV1\",\"EV1\",\"EV1\",\"EV1\",\"EV1\",\"EV1\",\"EV1\",\"EV2\",\"EV2\",\"EV2\",\"EV2\",\"EV2\",\"EV2\",\"EV2\",\"EV2\",\"EV2\",\"EV2\",\"EV2\",\"EV2\",\"EV2\",\"EV2\",\"EV2\",\"EV3\",\"EV3\",\"EV3\",\"EV3\",\"EV3\",\"EV3\",\"EV3\",\"EV3\",\"EV3\",\"EV3\",\"EV3\",\"EV3\",\"EV3\"],\"y\":[76.93694468329033,8.370050501354022,28.211489055595518,-1.735395189003436,12.695844173627277,9.307657725161096,2.9669564483457127,1.954667528364211,1.4800532412703034,2.3375469738168713,-1.9210543260028443,15.3680915248449,5.803881709500993,-1.281128798018054,5.876031164069661,3.156322812963355,3.820323443270088,4.213250724492855,4.14637495422922,4.627487630566245,5.699476299180878,3.51823599523242,4.671673316122977,2.639106506960182,4.938624599457729,5.281872383610301,3.218222120308797,3.1099540581929555,3.670489998164801,36.559505409582684,11.53032234565653,18.12538452073336,62.078554136405366,27.826342475224706,12.801299448967846,23.265064437478234,10.14196623457615,11.716579749057678,8.438833438462392,11.160875007450676,31.185241619503703,25.460296934865895]},{\"marker\":{\"color\":\"#FF4136\"},\"name\":\"TPN\",\"type\":\"box\",\"x\":[\"EV1\",\"EV1\",\"EV1\",\"EV1\",\"EV1\",\"EV1\",\"EV1\",\"EV1\",\"EV1\",\"EV1\",\"EV1\",\"EV1\",\"EV1\",\"EV1\",\"EV2\",\"EV2\",\"EV2\",\"EV2\",\"EV2\",\"EV2\",\"EV2\",\"EV2\",\"EV2\",\"EV2\",\"EV2\",\"EV2\",\"EV2\",\"EV2\",\"EV2\",\"EV3\",\"EV3\",\"EV3\",\"EV3\",\"EV3\",\"EV3\",\"EV3\",\"EV3\",\"EV3\",\"EV3\",\"EV3\",\"EV3\",\"EV3\"],\"y\":[9.532285966460725,10.782362131821074,22.656924546322827,-1.9186426986812144,30.061979851073154,32.50096309422914,75.7215796897038,7.577273480205399,1.4263665767986735,-1.4834041740293231,4.3352856109906,2.834907298908336,6.751338488994647,5.679237959698549,4.495465342258691,4.682949631880333,3.7200918890263295,4.181520119225037,4.676819824470831,5.212329608252486,3.450503647099687,3.84234118852459,2.6221293020263747,3.138471048835772,5.999064218037198,4.5016015374759775,3.6315024965955516,3.6545747183360158,4.769046478198371,26.12201798983184,16.800296532846712,28.84917438582361,20.888665774207944,49.710603157222366,25.78579545454545,28.781542493448143,5.82800901039267,32.73376711400299,36.01855080887339,21.333560736787188,11.08844034908098,9.06608434166249]},{\"marker\":{\"color\":\"#FF851B\"},\"name\":\"Kapusta et al (2017)\",\"type\":\"box\",\"x\":[\"EV1\",\"EV1\",\"EV1\",\"EV1\",\"EV1\",\"EV1\",\"EV1\",\"EV1\",\"EV1\",\"EV1\",\"EV1\",\"EV1\",\"EV1\",\"EV1\",\"EV2\",\"EV2\",\"EV2\",\"EV2\",\"EV2\",\"EV2\",\"EV2\",\"EV2\",\"EV2\",\"EV2\",\"EV2\",\"EV2\",\"EV2\",\"EV2\",\"EV2\",\"EV3\",\"EV3\",\"EV3\",\"EV3\",\"EV3\",\"EV3\",\"EV3\",\"EV3\",\"EV3\",\"EV3\",\"EV3\",\"EV3\",\"EV3\"],\"y\":[-1.1220776262209189,10.90652771045403,1.0773941306703094,-1.3983130271790063,2.0732097251671555,1.0593525739815377,17.79170447180817,3.9064531007589416,3.0442972200571576,1.3349586979271035,-1.3936885059312532,-1.1630593926189972,6.286143614322403,-1.9663250194627688,3.200663600030164,1.8065249471543092,1.820378867033117,1.1669908199782169,1.7314951086486017,1.8023545949745208,1.052409742615305,2.0564822944103014,2.323363867122834,1.329668895775567,1.9404396354242823,1.5634533898305083,1.9923783374360915,2.8236131832361315,2.030939075916587,33.82036876086416,25.33279983995198,28.599516369047624,28.853745967260128,21.570508127104986,6.898466852502726,23.068375015399777,115.15004645401055,33.56730769230769,15.436561127802172,11.070628894080997,31.879172229639522,31.804427161232425]}],                        {\"boxmode\":\"group\",\"template\":{\"data\":{\"scatter\":[{\"type\":\"scatter\"}]}},\"title\":{\"text\":\"Time-Loss Improvement - Turin - TuSTScenario\"},\"yaxis\":{\"title\":{\"text\":\"Time-Loss Improvement (times)\"}}},                        {\"responsive\": true}                    ).then(function(){\n",
       "                            \n",
       "var gd = document.getElementById('052cc1ea-948a-4e94-a58c-f3c34cabf030');\n",
       "var x = new MutationObserver(function (mutations, observer) {{\n",
       "        var display = window.getComputedStyle(gd).display;\n",
       "        if (!display || display === 'none') {{\n",
       "            console.log([gd, 'removed!']);\n",
       "            Plotly.purge(gd);\n",
       "            observer.disconnect();\n",
       "        }}\n",
       "}});\n",
       "\n",
       "// Listen for the removal of the full notebook cells\n",
       "var notebookContainer = gd.closest('#notebook-container');\n",
       "if (notebookContainer) {{\n",
       "    x.observe(notebookContainer, {childList: true});\n",
       "}}\n",
       "\n",
       "// Listen for the clearing of the current output cell\n",
       "var outputEl = gd.closest('.output');\n",
       "if (outputEl) {{\n",
       "    x.observe(outputEl, {childList: true});\n",
       "}}\n",
       "\n",
       "                        })                };                });            </script>        </div>"
      ]
     },
     "metadata": {},
     "output_type": "display_data"
    }
   ],
   "source": [
    "turin_df = pd.read_csv('/home/rodrigo/docker-sumo-interscity-spres-ev/notebooks/data/turin.csv')\n",
    "\n",
    "make_boxplot_grouped(turin_df[turin_df['alg'] != 'no-preemption'], 'Turin - TuSTScenario')"
   ]
  },
  {
   "cell_type": "code",
   "execution_count": 132,
   "metadata": {},
   "outputs": [
    {
     "ename": "TypeError",
     "evalue": "list indices must be integers or slices, not str",
     "output_type": "error",
     "traceback": [
      "\u001b[0;31m---------------------------------------------------------------------------\u001b[0m",
      "\u001b[0;31mTypeError\u001b[0m                                 Traceback (most recent call last)",
      "\u001b[0;32m<ipython-input-132-e9c513efe480>\u001b[0m in \u001b[0;36m<module>\u001b[0;34m\u001b[0m\n\u001b[0;32m----> 1\u001b[0;31m \u001b[0mmake_boxplot\u001b[0m\u001b[0;34m(\u001b[0m\u001b[0mturin_df\u001b[0m\u001b[0;34m[\u001b[0m\u001b[0mturin_df\u001b[0m\u001b[0;34m[\u001b[0m\u001b[0;34m'alg'\u001b[0m\u001b[0;34m]\u001b[0m \u001b[0;34m==\u001b[0m \u001b[0;34m'no-preemption'\u001b[0m\u001b[0;34m]\u001b[0m\u001b[0;34m,\u001b[0m \u001b[0;34m'Turin - TuSTScenario'\u001b[0m\u001b[0;34m)\u001b[0m\u001b[0;34m\u001b[0m\u001b[0;34m\u001b[0m\u001b[0m\n\u001b[0m",
      "\u001b[0;32m<ipython-input-130-bbb845bd89dc>\u001b[0m in \u001b[0;36mmake_boxplot\u001b[0;34m(df, scenario)\u001b[0m\n\u001b[1;32m      7\u001b[0m \u001b[0;34m\u001b[0m\u001b[0m\n\u001b[1;32m      8\u001b[0m     \u001b[0;32mfor\u001b[0m \u001b[0mev\u001b[0m \u001b[0;32min\u001b[0m \u001b[0mevs\u001b[0m\u001b[0;34m:\u001b[0m\u001b[0;34m\u001b[0m\u001b[0;34m\u001b[0m\u001b[0m\n\u001b[0;32m----> 9\u001b[0;31m         \u001b[0mprint\u001b[0m\u001b[0;34m(\u001b[0m\u001b[0mevs\u001b[0m\u001b[0;34m[\u001b[0m\u001b[0mev\u001b[0m\u001b[0;34m]\u001b[0m\u001b[0;34m)\u001b[0m\u001b[0;34m\u001b[0m\u001b[0;34m\u001b[0m\u001b[0m\n\u001b[0m\u001b[1;32m     10\u001b[0m         \u001b[0mfig\u001b[0m\u001b[0;34m.\u001b[0m\u001b[0madd_trace\u001b[0m\u001b[0;34m(\u001b[0m\u001b[0mgo\u001b[0m\u001b[0;34m.\u001b[0m\u001b[0mBox\u001b[0m\u001b[0;34m(\u001b[0m\u001b[0my\u001b[0m\u001b[0;34m=\u001b[0m\u001b[0mdf\u001b[0m\u001b[0;34m[\u001b[0m\u001b[0;34m(\u001b[0m\u001b[0mdf\u001b[0m\u001b[0;34m[\u001b[0m\u001b[0;34m'alg'\u001b[0m\u001b[0;34m]\u001b[0m \u001b[0;34m==\u001b[0m \u001b[0;34m'no-preemption'\u001b[0m\u001b[0;34m)\u001b[0m \u001b[0;34m&\u001b[0m \u001b[0;34m(\u001b[0m\u001b[0mdf\u001b[0m\u001b[0;34m[\u001b[0m\u001b[0;34m'ev'\u001b[0m\u001b[0;34m]\u001b[0m \u001b[0;34m==\u001b[0m \u001b[0mev\u001b[0m\u001b[0;34m)\u001b[0m\u001b[0;34m]\u001b[0m\u001b[0;34m[\u001b[0m\u001b[0;34m'tl'\u001b[0m\u001b[0;34m]\u001b[0m\u001b[0;34m.\u001b[0m\u001b[0mtolist\u001b[0m\u001b[0;34m(\u001b[0m\u001b[0;34m)\u001b[0m\u001b[0;34m,\u001b[0m \u001b[0mname\u001b[0m\u001b[0;34m=\u001b[0m\u001b[0mevs_name\u001b[0m\u001b[0;34m[\u001b[0m\u001b[0mev\u001b[0m\u001b[0;34m]\u001b[0m\u001b[0;34m)\u001b[0m\u001b[0;34m)\u001b[0m\u001b[0;34m\u001b[0m\u001b[0;34m\u001b[0m\u001b[0m\n\u001b[1;32m     11\u001b[0m \u001b[0;34m\u001b[0m\u001b[0m\n",
      "\u001b[0;31mTypeError\u001b[0m: list indices must be integers or slices, not str"
     ]
    }
   ],
   "source": [
    "make_boxplot(turin_df[turin_df['alg'] == 'no-preemption'], 'Turin - TuSTScenario')"
   ]
  },
  {
   "cell_type": "code",
   "execution_count": 116,
   "metadata": {},
   "outputs": [
    {
     "data": {
      "text/html": [
       "<div>                            <div id=\"d071c2bc-2751-4877-be7a-42c2a101da3d\" class=\"plotly-graph-div\" style=\"height:525px; width:100%;\"></div>            <script type=\"text/javascript\">                require([\"plotly\"], function(Plotly) {                    window.PLOTLYENV=window.PLOTLYENV || {};                                    if (document.getElementById(\"d071c2bc-2751-4877-be7a-42c2a101da3d\")) {                    Plotly.newPlot(                        \"d071c2bc-2751-4877-be7a-42c2a101da3d\",                        [{\"marker\":{\"color\":\"#3D9970\"},\"name\":\"Hyphotetical all-green\",\"type\":\"box\",\"x\":[\"EV1\",\"EV1\",\"EV1\",\"EV1\",\"EV1\",\"EV1\",\"EV1\",\"EV1\",\"EV1\",\"EV1\",\"EV1\",\"EV1\",\"EV2\",\"EV2\",\"EV2\",\"EV2\",\"EV2\",\"EV2\",\"EV2\",\"EV2\",\"EV2\",\"EV2\",\"EV2\",\"EV2\",\"EV3\",\"EV3\",\"EV3\",\"EV3\",\"EV3\",\"EV3\",\"EV3\",\"EV3\",\"EV3\",\"EV3\",\"EV3\",\"EV3\",\"EV3\",\"EV3\",\"EV3\"],\"y\":[-1.2811417136495058,-1.4182407546385565,1.1999357741027836,1.0274512015186972,-1.0218903400551576,1.27172659203387,2.232693810653971,12.871518367961455,1.8807222217831068,10.37463306178458,-1.1065429896022958,2.4294726436323115,1.047303520261973,51.705977134965075,1.7553948893426792,14.922097262876804,3.6525659044941903,12.274500696702276,7.88030426672884,1.5740743064356248,8.992327218183918,2.103777661739021,18.83062175475969,1.4819031435853869,3.1381629166515213,4.251168966114414,3.2166820702402963,3.6585016985517615,6.171590686754058,9.730957608512076,6.140869334746887,3.779627182500633,4.557994544746071,7.522880490296219,5.079083622951981,4.896952463373926,2.8821817117395483,2.6536521233986607,3.110639006914938]},{\"marker\":{\"color\":\"#FF4136\"},\"name\":\"TPN\",\"type\":\"box\",\"x\":[\"EV1\",\"EV1\",\"EV1\",\"EV1\",\"EV1\",\"EV1\",\"EV1\",\"EV1\",\"EV1\",\"EV1\",\"EV1\",\"EV1\",\"EV1\",\"EV2\",\"EV2\",\"EV2\",\"EV2\",\"EV2\",\"EV2\",\"EV2\",\"EV2\",\"EV2\",\"EV2\",\"EV2\",\"EV2\",\"EV3\",\"EV3\",\"EV3\",\"EV3\",\"EV3\",\"EV3\",\"EV3\",\"EV3\",\"EV3\",\"EV3\",\"EV3\",\"EV3\",\"EV3\",\"EV3\",\"EV3\"],\"y\":[7.877474578283062,-1.2864431416980977,1.4503157659419883,-1.4271493212669684,-1.0447792428213505,1.0787920946028888,-2.001645523367168,1.1606180146358147,1.02387310489503,-1.3927150927758938,4.0703747567384205,1.6481640477715542,1.8812817275925973,3.24674540190381,1.195373975419599,1.4004171136454897,4.5607824672545165,11.94712605871228,7.522968356706221,52.23906976744186,1.093878965246283,1.6158406618564187,-1.2535174180972144,1.661016303519732,2.764741970776797,2.077329986103017,1.5929926539579375,2.4627018131260106,2.819010354535477,10.204923839886645,1.6802221654749745,1.3376613315566852,3.0335785530532116,9.089328594755546,3.2514460052119745,2.3270177625428485,3.0605179929908544,5.473124222744231,9.519064236784283,2.742041181070112]},{\"marker\":{\"color\":\"#FF851B\"},\"name\":\"Kapusta et al (2017)\",\"type\":\"box\",\"x\":[\"EV1\",\"EV1\",\"EV1\",\"EV1\",\"EV1\",\"EV1\",\"EV1\",\"EV1\",\"EV1\",\"EV2\",\"EV2\",\"EV2\",\"EV2\",\"EV2\",\"EV2\",\"EV2\",\"EV2\",\"EV2\",\"EV2\",\"EV3\",\"EV3\",\"EV3\",\"EV3\",\"EV3\",\"EV3\",\"EV3\",\"EV3\",\"EV3\",\"EV3\",\"EV3\",\"EV3\",\"EV3\",\"EV3\",\"EV3\"],\"y\":[1.2112407070052575,-1.4448245004759122,11.766706067769894,1.4219116828617668,-1.55089593114777,1.0474886114286428,2.756380978682273,-1.1912853474849978,2.09169919242355,1.3430544670584363,1.2513391280755055,17.698160282589,-1.3310858846462559,-1.3373329750592375,5.455277591354053,1.4150858401321391,1.4097018617053367,1.5765884407090645,1.1745871466302948,2.3984348169963887,3.4299445791479037,1.4402949315966007,-1.8764913012254727,3.289269700024332,-1.0601789998419744,1.9769408373652555,3.3153257636693536,1.4219596942321056,1.3052469748065858,1.4392558197319585,1.3899447034178194,1.3456732124401016,-1.1692648024610282,-1.0691003562150143]}],                        {\"boxmode\":\"group\",\"template\":{\"data\":{\"scatter\":[{\"type\":\"scatter\"}]}},\"title\":{\"text\":\"Time-Loss Improvement - TAPAS Cologne\"},\"yaxis\":{\"title\":{\"text\":\"Time-Loss Improvement (times)\"}}},                        {\"responsive\": true}                    ).then(function(){\n",
       "                            \n",
       "var gd = document.getElementById('d071c2bc-2751-4877-be7a-42c2a101da3d');\n",
       "var x = new MutationObserver(function (mutations, observer) {{\n",
       "        var display = window.getComputedStyle(gd).display;\n",
       "        if (!display || display === 'none') {{\n",
       "            console.log([gd, 'removed!']);\n",
       "            Plotly.purge(gd);\n",
       "            observer.disconnect();\n",
       "        }}\n",
       "}});\n",
       "\n",
       "// Listen for the removal of the full notebook cells\n",
       "var notebookContainer = gd.closest('#notebook-container');\n",
       "if (notebookContainer) {{\n",
       "    x.observe(notebookContainer, {childList: true});\n",
       "}}\n",
       "\n",
       "// Listen for the clearing of the current output cell\n",
       "var outputEl = gd.closest('.output');\n",
       "if (outputEl) {{\n",
       "    x.observe(outputEl, {childList: true});\n",
       "}}\n",
       "\n",
       "                        })                };                });            </script>        </div>"
      ]
     },
     "metadata": {},
     "output_type": "display_data"
    }
   ],
   "source": [
    "cologne_df = pd.read_csv('/home/rodrigo/docker-sumo-interscity-spres-ev/notebooks/data/cologne.csv')\n",
    "\n",
    "make_boxplot_grouped(cologne_df[cologne_df['alg'] != 'no-preemption'], 'TAPAS Cologne')"
   ]
  },
  {
   "cell_type": "code",
   "execution_count": 124,
   "metadata": {},
   "outputs": [
    {
     "data": {
      "text/html": [
       "<div>                            <div id=\"72208fd9-fb26-40ef-9cf4-36735db2ab3d\" class=\"plotly-graph-div\" style=\"height:525px; width:100%;\"></div>            <script type=\"text/javascript\">                require([\"plotly\"], function(Plotly) {                    window.PLOTLYENV=window.PLOTLYENV || {};                                    if (document.getElementById(\"72208fd9-fb26-40ef-9cf4-36735db2ab3d\")) {                    Plotly.newPlot(                        \"72208fd9-fb26-40ef-9cf4-36735db2ab3d\",                        [{\"type\":\"box\",\"y\":[7138.3,4077.73,10380.2,9227.61,22413.44,13336.65,6928.88,7652.96,6839.41,8631.57,7957.55,10884.36,5972.78,7299.11,5526.22]},{\"type\":\"box\",\"y\":[2703.89,2544.48,2905.78,1308.15,7071.84,3117.46,2336.75,5021.13,13477.68,1065.49,6272.45,2046.85]},{\"type\":\"box\",\"y\":[716.1,863.34,1023.1,696.09,1052.76,1472.86,1772.34,867.93,946.29,792.18,2304.68,1344.3,926.78,746.74,736.49]}],                        {\"template\":{\"data\":{\"scatter\":[{\"type\":\"scatter\"}]}},\"title\":{\"text\":\"Time-Loss - No Preemption - TAPAS Cologne\"},\"yaxis\":{\"title\":{\"text\":\"Time-Loss (s)\"}}},                        {\"responsive\": true}                    ).then(function(){\n",
       "                            \n",
       "var gd = document.getElementById('72208fd9-fb26-40ef-9cf4-36735db2ab3d');\n",
       "var x = new MutationObserver(function (mutations, observer) {{\n",
       "        var display = window.getComputedStyle(gd).display;\n",
       "        if (!display || display === 'none') {{\n",
       "            console.log([gd, 'removed!']);\n",
       "            Plotly.purge(gd);\n",
       "            observer.disconnect();\n",
       "        }}\n",
       "}});\n",
       "\n",
       "// Listen for the removal of the full notebook cells\n",
       "var notebookContainer = gd.closest('#notebook-container');\n",
       "if (notebookContainer) {{\n",
       "    x.observe(notebookContainer, {childList: true});\n",
       "}}\n",
       "\n",
       "// Listen for the clearing of the current output cell\n",
       "var outputEl = gd.closest('.output');\n",
       "if (outputEl) {{\n",
       "    x.observe(outputEl, {childList: true});\n",
       "}}\n",
       "\n",
       "                        })                };                });            </script>        </div>"
      ]
     },
     "metadata": {},
     "output_type": "display_data"
    }
   ],
   "source": [
    "make_boxplot(cologne_df[cologne_df['alg'] == 'no-preemption'], 'TAPAS Cologne')"
   ]
  }
 ],
 "metadata": {
  "interpreter": {
   "hash": "01bbcc669396a60ff08b506be4b38299f876e29d65e47b58e413287cfb3c9e41"
  },
  "kernelspec": {
   "display_name": "Python 3",
   "language": "python",
   "name": "python3"
  },
  "language_info": {
   "codemirror_mode": {
    "name": "ipython",
    "version": 3
   },
   "file_extension": ".py",
   "mimetype": "text/x-python",
   "name": "python",
   "nbconvert_exporter": "python",
   "pygments_lexer": "ipython3",
   "version": "3.8.10"
  }
 },
 "nbformat": 4,
 "nbformat_minor": 2
}
